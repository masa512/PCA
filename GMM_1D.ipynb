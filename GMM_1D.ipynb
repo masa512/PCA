{
  "nbformat": 4,
  "nbformat_minor": 0,
  "metadata": {
    "colab": {
      "provenance": [],
      "authorship_tag": "ABX9TyObrZyIQX97TE8vLSg9K+MO",
      "include_colab_link": true
    },
    "kernelspec": {
      "name": "python3",
      "display_name": "Python 3"
    },
    "language_info": {
      "name": "python"
    }
  },
  "cells": [
    {
      "cell_type": "markdown",
      "metadata": {
        "id": "view-in-github",
        "colab_type": "text"
      },
      "source": [
        "<a href=\"https://colab.research.google.com/github/masa512/PCA/blob/main/GMM_1D.ipynb\" target=\"_parent\"><img src=\"https://colab.research.google.com/assets/colab-badge.svg\" alt=\"Open In Colab\"/></a>"
      ]
    },
    {
      "cell_type": "code",
      "source": [
        "import numpy as np\n",
        "import math\n",
        "import matplotlib.pyplot as plt\n",
        "from scipy.stats import norm\n"
      ],
      "metadata": {
        "id": "xS2S55oYGLJO"
      },
      "execution_count": 1,
      "outputs": []
    },
    {
      "cell_type": "markdown",
      "source": [
        "# Part 1 : Generating gaussian sampled data from N distributions \n",
        "(we'll say N for now)"
      ],
      "metadata": {
        "id": "mRTZ9-4gE3Zs"
      }
    },
    {
      "cell_type": "code",
      "execution_count": 279,
      "metadata": {
        "colab": {
          "base_uri": "https://localhost:8080/"
        },
        "id": "1a5o237FEeXF",
        "outputId": "28e46a5b-2b09-43c0-adf4-e7f266cf61a3"
      },
      "outputs": [
        {
          "output_type": "stream",
          "name": "stdout",
          "text": [
            "[ 3 -4  1]\n",
            "[0.16930498 0.73589178 1.98157976]\n",
            "[39 33 27]\n"
          ]
        }
      ],
      "source": [
        "n_components = 3\n",
        "means = np.random.randint(low=-5, high=5, size=(n_components,))\n",
        "variances = 2*np.random.rand(n_components)\n",
        "cluster_sizes = np.random.randint(low=20, high=50, size=(n_components,))\n",
        "print(means)\n",
        "print(variances)\n",
        "print(cluster_sizes)"
      ]
    },
    {
      "cell_type": "code",
      "source": [
        "# We will generate data from each cluster\n",
        "\n",
        "D = [np.random.normal(loc=m, scale=math.sqrt(s), size=(cs,)) for cs,m,s in zip(cluster_sizes,means,variances)]\n",
        "\n",
        "# Each element of D has data sampled by kth cluster"
      ],
      "metadata": {
        "id": "F7qCnYHIGn6b"
      },
      "execution_count": 280,
      "outputs": []
    },
    {
      "cell_type": "code",
      "source": [
        "print(D[0].shape)\n",
        "print(D[1].shape)\n"
      ],
      "metadata": {
        "colab": {
          "base_uri": "https://localhost:8080/"
        },
        "id": "xYiNEPHqJh5m",
        "outputId": "83761b18-c56d-4552-9c5c-2b1fdbe1157c"
      },
      "execution_count": 281,
      "outputs": [
        {
          "output_type": "stream",
          "name": "stdout",
          "text": [
            "(39,)\n",
            "(33,)\n"
          ]
        }
      ]
    },
    {
      "cell_type": "code",
      "source": [
        "# We can plot the data in a scatter plot in different color\n",
        "x_axis = np.linspace(start = -10, stop = 10, num = 200)\n",
        "\n",
        "f = plt.figure(figsize=(10,2))\n",
        "for k in range(len(D)):\n",
        "  plt.scatter(D[k],np.zeros_like(D[k]))\n",
        "  plt.plot(x_axis, norm.pdf(x_axis, means[k], math.sqrt(variances[k])))\n",
        "# We can also plot the gaussian on top \n",
        "\n",
        "plt.title('Scatter plot of the original data with proper label')\n",
        "\n"
      ],
      "metadata": {
        "colab": {
          "base_uri": "https://localhost:8080/",
          "height": 191
        },
        "id": "HeMwqmJEJqmm",
        "outputId": "f2c9d3fa-0d5f-4d2a-fea6-fcc9a8dcddcf"
      },
      "execution_count": 282,
      "outputs": [
        {
          "output_type": "execute_result",
          "data": {
            "text/plain": [
              "Text(0.5, 1.0, 'Scatter plot of the original data with proper label')"
            ]
          },
          "metadata": {},
          "execution_count": 282
        },
        {
          "output_type": "display_data",
          "data": {
            "text/plain": [
              "<Figure size 720x144 with 1 Axes>"
            ],
            "image/png": "[encoded data removed]"
          },
          "metadata": {
            "needs_background": "light"
          }
        }
      ]
    },
    {
      "cell_type": "markdown",
      "source": [
        "# Part 2 : GMM modeling sequence"
      ],
      "metadata": {
        "id": "1TPxgW5jM1NZ"
      }
    },
    {
      "cell_type": "code",
      "source": [
        "def E_step(D,M,V,Pi):\n",
        "  # Lets approach with a different method ( using i j)\n",
        "\n",
        "  gamma = np.array([[norm(M[j],math.sqrt(V[j])).pdf(D[i]) for i in range(D.shape[0])] for j in range(M.shape[0])])\n",
        "  sum_gamma = np.sum(gamma,axis=0,keepdims=True)\n",
        "  return gamma/sum_gamma\n",
        "\n",
        "def eval_mean(gamma,D):\n",
        "  # D has shape [ND,] and gamma has shape [NC,ND]\n",
        "  num = np.sum(np.array([gamma[:,i]*D[i] for i in range(gamma.shape[1])]),axis=0,keepdims=False)\n",
        "  den = np.sum(gamma,axis=1,keepdims=False)\n",
        "  print(num/den)\n",
        "  return num/den\n",
        "\n",
        "def eval_std(gamma,M,D):\n",
        "  # D is shape [ND x 1]\n",
        "  # M is shape [NC x 1]\n",
        "  # gamma is shape [NC,ND]\n",
        "\n",
        "  num = np.array([[gamma[j,i]*(D[i]-M[j])*(D[i]-M[j]) for i in range(D.shape[0])] for j in range(gamma.shape[0])]) \n",
        "  num = np.sum(num,axis=1,keepdims=False)\n",
        "  den = np.sum(gamma,axis=1,keepdims=False)\n",
        "  return num/den\n",
        "\n",
        "def eval_pi(gamma):\n",
        "  N = gamma.shape[1]\n",
        "  return 1/N*np.sum(gamma,axis=1,keepdims=True)\n",
        "\n",
        "\n",
        "class GMM_1D:\n",
        "\n",
        "  def __init__(self,n_components):\n",
        "    self.nc = n_components\n",
        "    # initialize mean,variance,pi\n",
        "    self.M = np.random.randint(low=-5, high=5, size=(self.nc,))\n",
        "    self.V = np.random.rand(self.nc)\n",
        "    self.Pi = 1/self.nc*np.ones((self.nc))  \n",
        "    \n",
        "  \n",
        "  def load_data(self,D):\n",
        "\n",
        "    # Takes data as a form of 1D array (N_data,)\n",
        "    self.D = D\n",
        "    self.gamma = np.zeros((self.nc,self.D.shape[0]))\n",
        "  \n",
        "  def forward(self):\n",
        "\n",
        "    # Contribution from E step\n",
        "    gamma = E_step(self.D,self.M,self.V,self.Pi)\n",
        "    self.gamma = gamma\n",
        "    # backprop to retrieve the new mean,variance,pi\n",
        "    self.M = eval_mean(gamma,self.D).reshape((-1,))\n",
        "    self.V = eval_std(gamma,self.M,self.D).reshape((-1,))\n",
        "    self.Pi = eval_pi(gamma).reshape((-1,))\n",
        "    \n",
        "  def inference(self):\n",
        "\n",
        "    # Observe the data's Gamma matrix (Ncluster X Ndata)\n",
        "    # Return the argmax of the data given the pre-saved data\n",
        "    # This would serve as a classification label for that data\n",
        "\n",
        "    return np.argmax(self.gamma,axis=0) \n",
        "    \n"
      ],
      "metadata": {
        "id": "QRqzqnceK9-d"
      },
      "execution_count": 283,
      "outputs": []
    },
    {
      "cell_type": "code",
      "source": [
        "# Initiate gmm model\n",
        "model = GMM_1D(n_components)\n",
        "\n",
        "# Load the data into model\n",
        "data = np.concatenate(D,axis=0)\n",
        "model.load_data(data)\n"
      ],
      "metadata": {
        "id": "k0kQQzhVaNbP"
      },
      "execution_count": 284,
      "outputs": []
    },
    {
      "cell_type": "code",
      "source": [
        "# We will do just one forward pass to debug the model\n",
        "\n",
        "N_epochs = 40\n",
        "for _ in range(N_epochs):\n",
        "  model.forward()"
      ],
      "metadata": {
        "colab": {
          "base_uri": "https://localhost:8080/"
        },
        "id": "zAuEFXY2h2tm",
        "outputId": "b8e04994-3b06-4fe7-b3ad-0433b7fcf14b"
      },
      "execution_count": 285,
      "outputs": [
        {
          "output_type": "stream",
          "name": "stdout",
          "text": [
            "[-3.66295428  2.24653093  2.52296969]\n",
            "[-3.66720698  1.89397478  2.76654016]\n",
            "[-3.74622235  1.54286006  2.91440383]\n",
            "[-3.84397954  1.22898015  2.99065505]\n",
            "[-3.92683632  1.01592033  3.01630031]\n",
            "[-3.98181618  0.89023645  3.02110062]\n",
            "[-4.01294724  0.81118014  3.02136395]\n",
            "[-4.02903697  0.76059496  3.02095287]\n",
            "[-4.03714835  0.72897416  3.02059372]\n",
            "[-4.04133901  0.70963909  3.02035882]\n",
            "[-4.04359675  0.69797107  3.02021466]\n",
            "[-4.04486014  0.69097617  3.02012712]\n",
            "[-4.04558652  0.68679511  3.02007377]\n",
            "[-4.04601144  0.68429885  3.02004108]\n",
            "[-4.04626261  0.68280895  3.02002099]\n",
            "[-4.04641199  0.68191967  3.02000861]\n",
            "[-4.04650115  0.68138877  3.02000098]\n",
            "[-4.04655448  0.68107174  3.01999629]\n",
            "[-4.04658642  0.68088238  3.0199934 ]\n",
            "[-4.04660555  0.68076924  3.01999163]\n",
            "[-4.04661703  0.68070162  3.01999055]\n",
            "[-4.04662391  0.6806612   3.01998989]\n",
            "[-4.04662803  0.68063704  3.01998948]\n",
            "[-4.04663051  0.68062259  3.01998924]\n",
            "[-4.04663199  0.68061394  3.01998909]\n",
            "[-4.04663288  0.68060877  3.019989  ]\n",
            "[-4.04663342  0.68060567  3.01998894]\n",
            "[-4.04663374  0.68060382  3.01998891]\n",
            "[-4.04663393  0.68060271  3.01998889]\n",
            "[-4.04663405  0.68060205  3.01998887]\n",
            "[-4.04663411  0.68060165  3.01998887]\n",
            "[-4.04663416  0.68060141  3.01998886]\n",
            "[-4.04663418  0.68060127  3.01998886]\n",
            "[-4.0466342   0.68060119  3.01998886]\n",
            "[-4.04663421  0.68060114  3.01998886]\n",
            "[-4.04663421  0.68060111  3.01998886]\n",
            "[-4.04663421  0.68060109  3.01998886]\n",
            "[-4.04663422  0.68060108  3.01998886]\n",
            "[-4.04663422  0.68060107  3.01998886]\n",
            "[-4.04663422  0.68060107  3.01998886]\n"
          ]
        }
      ]
    },
    {
      "cell_type": "code",
      "source": [
        "# Since we have the correct associations\n",
        "labels = model.inference()\n",
        "\n",
        "# We will now partition the data in the labels\n",
        "partitioned_data = [data[labels == k] for k in range(n_components)]\n",
        "\n",
        "# We can plot the data in a scatter plot in different color\n",
        "x_axis = np.linspace(start = -10, stop = 10, num = 200)\n",
        "\n",
        "f = plt.figure(figsize=(10,2))\n",
        "for k in range(n_components):\n",
        "  plt.scatter(partitioned_data[k],np.zeros_like(partitioned_data[k]))\n",
        "  plt.plot(x_axis, model.Pi[k] * norm.pdf(x_axis, model.M[k], math.sqrt(model.V[k])))\n",
        "# We can also plot the gaussian on top \n",
        "\n",
        "plt.title('Scatter plot of the original data with proper label')\n",
        "\n"
      ],
      "metadata": {
        "colab": {
          "base_uri": "https://localhost:8080/",
          "height": 191
        },
        "id": "kxn1VPkEiFW_",
        "outputId": "70c04168-e662-4330-85bd-ea9f0ef3575f"
      },
      "execution_count": 287,
      "outputs": [
        {
          "output_type": "execute_result",
          "data": {
            "text/plain": [
              "Text(0.5, 1.0, 'Scatter plot of the original data with proper label')"
            ]
          },
          "metadata": {},
          "execution_count": 287
        },
        {
          "output_type": "display_data",
          "data": {
            "text/plain": [
              "<Figure size 720x144 with 1 Axes>"
            ],
            "image/png": "[encoded data removed]"
          },
          "metadata": {
            "needs_background": "light"
          }
        }
      ]
    },
    {
      "cell_type": "code",
      "source": [],
      "metadata": {
        "id": "Pci6jTzpAea_"
      },
      "execution_count": 262,
      "outputs": []
    }
  ]
}