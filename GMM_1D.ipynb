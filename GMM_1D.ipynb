{
  "nbformat": 4,
  "nbformat_minor": 0,
  "metadata": {
    "colab": {
      "provenance": [],
      "authorship_tag": "ABX9TyNcdvWv9Sf1c0+Kh9dfyk4J",
      "include_colab_link": true
    },
    "kernelspec": {
      "name": "python3",
      "display_name": "Python 3"
    },
    "language_info": {
      "name": "python"
    }
  },
  "cells": [
    {
      "cell_type": "markdown",
      "metadata": {
        "id": "view-in-github",
        "colab_type": "text"
      },
      "source": [
        "<a href=\"https://colab.research.google.com/github/masa512/PCA/blob/main/GMM_1D.ipynb\" target=\"_parent\"><img src=\"https://colab.research.google.com/assets/colab-badge.svg\" alt=\"Open In Colab\"/></a>"
      ]
    },
    {
      "cell_type": "code",
      "source": [
        "import numpy as np\n",
        "import math\n",
        "import matplotlib.pyplot as plt\n",
        "from scipy.stats import norm\n"
      ],
      "metadata": {
        "id": "xS2S55oYGLJO"
      },
      "execution_count": 32,
      "outputs": []
    },
    {
      "cell_type": "markdown",
      "source": [
        "# Part 1 : Generating gaussian sampled data from N distributions \n",
        "(we'll say N for now)"
      ],
      "metadata": {
        "id": "mRTZ9-4gE3Zs"
      }
    },
    {
      "cell_type": "code",
      "execution_count": 23,
      "metadata": {
        "colab": {
          "base_uri": "https://localhost:8080/"
        },
        "id": "1a5o237FEeXF",
        "outputId": "6679f61f-5ea8-4206-d459-b5873b473517"
      },
      "outputs": [
        {
          "output_type": "stream",
          "name": "stdout",
          "text": [
            "[-2  4  1]\n",
            "[0.42004027 0.53637567 1.92937115]\n",
            "[46 24 20]\n"
          ]
        }
      ],
      "source": [
        "Nc = 3\n",
        "means = np.random.randint(low=-5, high=5, size=(Nc,))\n",
        "variances = 2*np.random.rand(Nc)\n",
        "cluster_sizes = np.random.randint(low=20, high=50, size=(Nc,))\n",
        "print(means)\n",
        "print(variances)\n",
        "print(cluster_sizes)"
      ]
    },
    {
      "cell_type": "code",
      "source": [
        "# We will generate data from each cluster\n",
        "\n",
        "D = [np.random.normal(loc=m, scale=math.sqrt(s), size=(cs,)) for cs,m,s in zip(cluster_sizes,means,variances)]\n",
        "\n",
        "# Each element of D has data sampled by kth cluster"
      ],
      "metadata": {
        "id": "F7qCnYHIGn6b"
      },
      "execution_count": 24,
      "outputs": []
    },
    {
      "cell_type": "code",
      "source": [
        "print(D[0].shape)\n",
        "print(D[1].shape)\n",
        "print(D[2].shape)"
      ],
      "metadata": {
        "colab": {
          "base_uri": "https://localhost:8080/"
        },
        "id": "xYiNEPHqJh5m",
        "outputId": "4105cb45-0831-44a4-bf0d-130d84711ce8"
      },
      "execution_count": 25,
      "outputs": [
        {
          "output_type": "stream",
          "name": "stdout",
          "text": [
            "(46,)\n",
            "(24,)\n",
            "(20,)\n"
          ]
        }
      ]
    },
    {
      "cell_type": "code",
      "source": [
        "# We can plot the data in a scatter plot in different color\n",
        "x_axis = np.linspace(start = -10, stop = 10, num = 200)\n",
        "\n",
        "f = plt.figure(figsize=(10,2))\n",
        "for k in range(len(D)):\n",
        "  plt.scatter(D[k],np.zeros_like(D[k]))\n",
        "  plt.plot(x_axis, norm.pdf(x_axis, means[k], variances[k]))\n",
        "# We can also plot the gaussian on top \n",
        "\n",
        "plt.title('Scatter plot of the original data with proper label')\n",
        "\n"
      ],
      "metadata": {
        "colab": {
          "base_uri": "https://localhost:8080/",
          "height": 191
        },
        "id": "HeMwqmJEJqmm",
        "outputId": "7181cc21-e06c-49de-806d-cabd44f5249a"
      },
      "execution_count": 34,
      "outputs": [
        {
          "output_type": "execute_result",
          "data": {
            "text/plain": [
              "Text(0.5, 1.0, 'Scatter plot of the original data with proper label')"
            ]
          },
          "metadata": {},
          "execution_count": 34
        },
        {
          "output_type": "display_data",
          "data": {
            "text/plain": [
              "<Figure size 720x144 with 1 Axes>"
            ],
            "image/png": "[encoded data removed]"
          },
          "metadata": {
            "needs_background": "light"
          }
        }
      ]
    },
    {
      "cell_type": "markdown",
      "source": [
        "# Part 2 : GMM modeling sequence"
      ],
      "metadata": {
        "id": "1TPxgW5jM1NZ"
      }
    },
    {
      "cell_type": "code",
      "source": [
        "def E_step(D,M,V,Pi):\n",
        "  gamma = np.array([[norm(m,math.sqrt(v)).cdf(x) for x in D] for m,v in zip(M,V)])\n",
        "  sum_gamma = np.sum(gamma,axis=0,keepdims=True)\n",
        "  return gamma/sum_gamma\n",
        "\n",
        "def eval_mean(gamma,D):\n",
        "  # D has shape [ND,] and gamma has shape [NC,ND]\n",
        "  num = gamma @ D.reshape((-1,1)) # [NC x 1]\n",
        "  den = np.sum(gamma,axis=1,keepdim=True) # [NC x 1]\n",
        "  return num/den\n",
        "\n",
        "def eval_std(gamma,M,D):\n",
        "  # D is shape [ND x 1]\n",
        "  # M is shape [NC x 1]\n",
        "  # gamma is shape [NC,ND]\n",
        "\n",
        "  num = np.array([np.dot(gamma[j,:],(D-M[j,0])@(D-M[j,0]).T) for j in range(M.shape[0])])\n",
        "  den = np.sum(gamma,axis=1,keepdims=True)\n",
        "\n",
        "  return num/den\n",
        "\n",
        "def eval_pi(gamma):\n",
        "  N = gamma.shape[1]\n",
        "  return 1/N*np.sum(gamma,axis=1,keepdims=True)\n",
        "\n",
        "\n",
        "class GMM_1D:\n",
        "\n",
        "  def __init__(self,n_components):\n",
        "    self.nc = n_components\n",
        "    # initialize mean,variance,pi\n",
        "    self.M = np.random.randint(low=-5, high=5, size=(self.nc,))\n",
        "    self.V = np.random.rand(self.nc)\n",
        "    self.Pi = 1/self.nc*np.ones((self.nc))  \n",
        "  \n",
        "  def load_data(self,D):\n",
        "\n",
        "    # Takes data as a form of 1D array (N_data,)\n",
        "    self.D = D\n",
        "  \n",
        "  def forward(self):\n",
        "\n",
        "    # Contribution from E step\n",
        "    gamma = E_step(self.D,self.M,self.V,self.Pi)\n",
        "\n",
        "    # backprop to retrieve the new mean,variance,pi\n",
        "    self.M = eval_mean(gamma,self.D)\n",
        "    self.V = eval_std(gamma,self.M,self.D)\n",
        "    self.Pi = eval_pi(gamma)\n",
        "\n",
        "    \n"
      ],
      "metadata": {
        "id": "QRqzqnceK9-d"
      },
      "execution_count": 36,
      "outputs": []
    },
    {
      "cell_type": "code",
      "source": [],
      "metadata": {
        "id": "k0kQQzhVaNbP"
      },
      "execution_count": null,
      "outputs": []
    }
  ]
}