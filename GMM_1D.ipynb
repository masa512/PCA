{
  "nbformat": 4,
  "nbformat_minor": 0,
  "metadata": {
    "colab": {
      "provenance": [],
      "authorship_tag": "ABX9TyNSyB5ZXBa82859CHD5Upkd",
      "include_colab_link": true
    },
    "kernelspec": {
      "name": "python3",
      "display_name": "Python 3"
    },
    "language_info": {
      "name": "python"
    }
  },
  "cells": [
    {
      "cell_type": "markdown",
      "metadata": {
        "id": "view-in-github",
        "colab_type": "text"
      },
      "source": [
        "<a href=\"https://colab.research.google.com/github/masa512/PCA/blob/main/GMM_1D.ipynb\" target=\"_parent\"><img src=\"https://colab.research.google.com/assets/colab-badge.svg\" alt=\"Open In Colab\"/></a>"
      ]
    },
    {
      "cell_type": "code",
      "source": [
        "import numpy as np\n",
        "import math\n",
        "import matplotlib.pyplot as plt\n",
        "from scipy.stats import norm\n"
      ],
      "metadata": {
        "id": "xS2S55oYGLJO"
      },
      "execution_count": 1,
      "outputs": []
    },
    {
      "cell_type": "markdown",
      "source": [
        "# Part 1 : Generating gaussian sampled data from N distributions \n",
        "(we'll say N for now)"
      ],
      "metadata": {
        "id": "mRTZ9-4gE3Zs"
      }
    },
    {
      "cell_type": "code",
      "execution_count": 151,
      "metadata": {
        "colab": {
          "base_uri": "https://localhost:8080/"
        },
        "id": "1a5o237FEeXF",
        "outputId": "d7073d0f-2597-4e85-ff66-8908f453ed7f"
      },
      "outputs": [
        {
          "output_type": "stream",
          "name": "stdout",
          "text": [
            "[ 2 -5 -2]\n",
            "[1.59954619 0.92663418 1.25970607]\n",
            "[44 20 24]\n"
          ]
        }
      ],
      "source": [
        "Nc = 3\n",
        "means = np.random.randint(low=-5, high=5, size=(Nc,))\n",
        "variances = 2*np.random.rand(Nc)\n",
        "cluster_sizes = np.random.randint(low=20, high=50, size=(Nc,))\n",
        "print(means)\n",
        "print(variances)\n",
        "print(cluster_sizes)"
      ]
    },
    {
      "cell_type": "code",
      "source": [
        "# We will generate data from each cluster\n",
        "\n",
        "D = [np.random.normal(loc=m, scale=math.sqrt(s), size=(cs,)) for cs,m,s in zip(cluster_sizes,means,variances)]\n",
        "\n",
        "# Each element of D has data sampled by kth cluster"
      ],
      "metadata": {
        "id": "F7qCnYHIGn6b"
      },
      "execution_count": 152,
      "outputs": []
    },
    {
      "cell_type": "code",
      "source": [
        "print(D[0].shape)\n",
        "print(D[1].shape)\n",
        "print(D[2].shape)"
      ],
      "metadata": {
        "colab": {
          "base_uri": "https://localhost:8080/"
        },
        "id": "xYiNEPHqJh5m",
        "outputId": "2629f7c4-9fce-4547-9527-7ce98a5fe01d"
      },
      "execution_count": 153,
      "outputs": [
        {
          "output_type": "stream",
          "name": "stdout",
          "text": [
            "(44,)\n",
            "(20,)\n",
            "(24,)\n"
          ]
        }
      ]
    },
    {
      "cell_type": "code",
      "source": [
        "# We can plot the data in a scatter plot in different color\n",
        "x_axis = np.linspace(start = -10, stop = 10, num = 200)\n",
        "\n",
        "f = plt.figure(figsize=(10,2))\n",
        "for k in range(len(D)):\n",
        "  plt.scatter(D[k],np.zeros_like(D[k]))\n",
        "  plt.plot(x_axis, norm.pdf(x_axis, means[k], variances[k]))\n",
        "# We can also plot the gaussian on top \n",
        "\n",
        "plt.title('Scatter plot of the original data with proper label')\n",
        "\n"
      ],
      "metadata": {
        "colab": {
          "base_uri": "https://localhost:8080/",
          "height": 190
        },
        "id": "HeMwqmJEJqmm",
        "outputId": "bdb6a2e2-c12c-492d-c4c0-4f8eae38a9e6"
      },
      "execution_count": 154,
      "outputs": [
        {
          "output_type": "execute_result",
          "data": {
            "text/plain": [
              "Text(0.5, 1.0, 'Scatter plot of the original data with proper label')"
            ]
          },
          "metadata": {},
          "execution_count": 154
        },
        {
          "output_type": "display_data",
          "data": {
            "text/plain": [
              "<Figure size 720x144 with 1 Axes>"
            ],
            "image/png": "[encoded data removed]"
          },
          "metadata": {
            "needs_background": "light"
          }
        }
      ]
    },
    {
      "cell_type": "markdown",
      "source": [
        "# Part 2 : GMM modeling sequence"
      ],
      "metadata": {
        "id": "1TPxgW5jM1NZ"
      }
    },
    {
      "cell_type": "code",
      "source": [
        "def E_step(D,M,V,Pi):\n",
        "  gamma = np.array([[norm(m,math.sqrt(v)).pdf(x) * pi for x in D] for m,v,pi in zip(M,V,Pi)])\n",
        "  sum_gamma = np.sum(gamma,axis=0,keepdims=True)\n",
        "  return gamma/sum_gamma\n",
        "\n",
        "def eval_mean(gamma,D):\n",
        "  # D has shape [ND,] and gamma has shape [NC,ND]\n",
        "  num = np.sum(np.array([gamma[:,i]*D[i] for i in range(gamma.shape[1])]),axis=0,keepdims=False)\n",
        "  den = np.sum(gamma,axis=1,keepdims=False)\n",
        "  print(num/den)\n",
        "  return num/den\n",
        "\n",
        "def eval_std(gamma,M,D):\n",
        "  # D is shape [ND x 1]\n",
        "  # M is shape [NC x 1]\n",
        "  # gamma is shape [NC,ND]\n",
        "\n",
        "  num = np.array([[gamma[j,i]*(D[i]-M[j])*(D[i]-M[j]) for i in range(D.shape[0])] for j in range(gamma.shape[0])])\n",
        "  \n",
        "  num = np.sum(num,axis=1,keepdims=False)\n",
        "  print(num.shape)\n",
        "  den = np.sum(gamma,axis=1,keepdims=False)\n",
        "  return num/den\n",
        "\n",
        "def eval_pi(gamma):\n",
        "  N = gamma.shape[1]\n",
        "  return 1/N*np.sum(gamma,axis=1,keepdims=True)\n",
        "\n",
        "\n",
        "class GMM_1D:\n",
        "\n",
        "  def __init__(self,n_components):\n",
        "    self.nc = n_components\n",
        "    # initialize mean,variance,pi\n",
        "    self.M = np.random.randint(low=-5, high=5, size=(self.nc,))\n",
        "    self.V = np.random.rand(self.nc)\n",
        "    self.Pi = 1/self.nc*np.ones((self.nc))  \n",
        "  \n",
        "  def load_data(self,D):\n",
        "\n",
        "    # Takes data as a form of 1D array (N_data,)\n",
        "    self.D = D\n",
        "  \n",
        "  def forward(self):\n",
        "\n",
        "    # Contribution from E step\n",
        "    gamma = E_step(self.D,self.M,self.V,self.Pi)\n",
        "\n",
        "    # backprop to retrieve the new mean,variance,pi\n",
        "    self.M = eval_mean(gamma,self.D).reshape((-1,))\n",
        "    self.V = eval_std(gamma,self.M,self.D).reshape((-1,))\n",
        "    self.Pi = eval_pi(gamma).reshape((-1,))\n",
        "\n",
        "    \n"
      ],
      "metadata": {
        "id": "QRqzqnceK9-d"
      },
      "execution_count": 155,
      "outputs": []
    },
    {
      "cell_type": "code",
      "source": [
        "# Initiate gmm model\n",
        "model = GMM_1D(3)\n",
        "\n",
        "# Load the data into model\n",
        "data = np.concatenate(D,axis=0)\n",
        "model.load_data(data)\n",
        "\n",
        "print(model.M)"
      ],
      "metadata": {
        "id": "k0kQQzhVaNbP",
        "colab": {
          "base_uri": "https://localhost:8080/"
        },
        "outputId": "33691bc4-c14a-42a7-df86-0810aad4b44b"
      },
      "execution_count": 156,
      "outputs": [
        {
          "output_type": "stream",
          "name": "stdout",
          "text": [
            "[ 3 -1  1]\n"
          ]
        }
      ]
    },
    {
      "cell_type": "code",
      "source": [
        "# We will do just one forward pass to debug the model\n",
        "model.forward()\n"
      ],
      "metadata": {
        "colab": {
          "base_uri": "https://localhost:8080/"
        },
        "id": "zAuEFXY2h2tm",
        "outputId": "43283961-04b7-458c-ce32-29633141eb95"
      },
      "execution_count": 160,
      "outputs": [
        {
          "output_type": "stream",
          "name": "stdout",
          "text": [
            "[ 2.76789289 -2.76912501 -0.60188302]\n",
            "(3,)\n"
          ]
        }
      ]
    },
    {
      "cell_type": "code",
      "source": [],
      "metadata": {
        "id": "kxn1VPkEiFW_"
      },
      "execution_count": 106,
      "outputs": []
    }
  ]
}